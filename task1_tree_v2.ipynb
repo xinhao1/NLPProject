{
 "cells": [
  {
   "cell_type": "markdown",
   "metadata": {
    "pycharm": {
     "name": "#%% md\n"
    }
   },
   "source": [
    "## Crawl tweets by API"
   ]
  },
  {
   "cell_type": "code",
   "execution_count": 1,
   "metadata": {
    "pycharm": {
     "name": "#%%\n"
    }
   },
   "outputs": [],
   "source": [
    "# ! pip install tqdm\n",
    "# ! pip install tweepy\n",
    "# ! pip install torch\n",
    "# ! pip install transformers\n",
    "# ! pip install emoji"
   ]
  },
  {
   "cell_type": "code",
   "execution_count": null,
   "metadata": {
    "pycharm": {
     "name": "#%%\n"
    }
   },
   "outputs": [],
   "source": [
    "# https://github.com/twitterdev/Twitter-API-v2-sample-code/blob/main/Tweet-Lookup/get_tweets_with_bearer_token.py\n",
    "import requests\n",
    "import json\n",
    "import time\n",
    "from tqdm import tqdm\n",
    "\n",
    "# To set your bearer token:\n",
    "bearer_token = \"AAAAAAAAAAAAAAAAAAAAAGdZbgEAAAAAlXMiIg%2F96Ygnv%2FmvFDMsWb6LuSw%3DPTSIRz5g0G9RaB9pxp8QhdTtHxXnhEZsjLkpNyqQBR8EfRy8WS\"\n",
    "\n",
    "\n",
    "def create_url(ids):\n",
    "    tweet_fields = \"tweet.fields=attachments,author_id,context_annotations,conversation_id,created_at,entities,geo,id,in_reply_to_user_id,lang,public_metrics,possibly_sensitive,referenced_tweets,reply_settings,source,text,withheld\"\n",
    "    # Tweet fields are adjustable.\n",
    "    # Options include:\n",
    "    # attachments, author_id, context_annotations,\n",
    "    # conversation_id, created_at, entities, geo, id,\n",
    "    # in_reply_to_user_id, lang, non_public_metrics, organic_metrics,\n",
    "    # possibly_sensitive, promoted_metrics, public_metrics, referenced_tweets,\n",
    "    # source, text, and withheld\n",
    "    ids = \"ids=\" + ids\n",
    "    # print(ids)\n",
    "    # You can adjust ids to include a single Tweets.\n",
    "    # Or you can add to up to 100 comma-separated IDs\n",
    "    url = \"https://api.twitter.com/2/tweets?{}&{}\".format(ids, tweet_fields)\n",
    "    return url\n",
    "\n",
    "\n",
    "def bearer_oauth(r):\n",
    "    \"\"\"\n",
    "    Method required by bearer token authentication.\n",
    "    \"\"\"\n",
    "    r.headers[\"Authorization\"] = f\"Bearer {bearer_token}\"\n",
    "    r.headers[\"User-Agent\"] = \"v2TweetLookupPython\"\n",
    "    return r\n",
    "\n",
    "\n",
    "def connect_to_endpoint(url):\n",
    "    response = requests.request(\"GET\", url, auth=bearer_oauth)\n",
    "    # print(response.status_code)\n",
    "    if response.status_code != 200:\n",
    "        raise Exception(\n",
    "            \"Request returned an error: {} {}\".format(\n",
    "                response.status_code, response.text\n",
    "            )\n",
    "        )\n",
    "    return response.json()\n",
    "\n",
    "\n",
    "def crawl_and_save(f_in, f_out):\n",
    "    train_id_list = []\n",
    "    for l in f_in.readlines():\n",
    "        train_id_list.extend(l.strip().split(\",\"))\n",
    "    start_id = 0\n",
    "    end_id = start_id + 100\n",
    "    train_id_len = len(train_id_list)\n",
    "    # max 100 tweet\n",
    "    split_crawl = []\n",
    "    while start_id < train_id_len:\n",
    "        split_crawl.append(\",\".join(train_id_list[start_id:end_id]))\n",
    "        start_id = end_id\n",
    "        end_id = start_id + 100\n",
    "\n",
    "    crawl_count = 0\n",
    "    for ids in tqdm(split_crawl):\n",
    "        url = create_url(ids)\n",
    "        json_response = connect_to_endpoint(url)\n",
    "        for x in json_response[\"data\"]:\n",
    "            json.dump(x, open(f_out + str(x[\"id\"]) + \".json\", \"w\"))\n",
    "        crawl_count += 1\n",
    "        if crawl_count % 290 == 0:\n",
    "            time.sleep(790)\n",
    "\n",
    "# un-comment to crawl tweets\n",
    "def main():\n",
    "    print(\"crawl the train tweets\")\n",
    "    #crawl_and_save(open(\"data/train.data.txt\", \"r\"), \"data/train_tweet/\")\n",
    "    # print(\"crawl the dev tweets\")\n",
    "    # crawl_and_save(open(\"data/dev.data.txt\", \"r\"), \"data/dev_tweet/\")\n",
    "    # print(\"crawl the analysis tweets\")\n",
    "    # crawl_and_save(open(\"data/covid.data.txt\", \"r\"), \"data/analysis_tweet/\")\n",
    "    print(\"Finished!\")\n",
    "\n",
    "if __name__ == \"__main__\":\n",
    "    main()\n"
   ]
  },
  {
   "cell_type": "markdown",
   "metadata": {
    "pycharm": {
     "name": "#%% md\n"
    }
   },
   "source": [
    "## Dataset read-in"
   ]
  },
  {
   "cell_type": "markdown",
   "metadata": {
    "pycharm": {
     "name": "#%% md\n"
    }
   },
   "source": [
    "Read-in tweets and labels, then sort one tweet with retweets by time"
   ]
  },
  {
   "cell_type": "code",
   "execution_count": 1,
   "metadata": {
    "pycharm": {
     "name": "#%%\n"
    }
   },
   "outputs": [
    {
     "name": "stdout",
     "output_type": "stream",
     "text": [
      "Finished!\n"
     ]
    }
   ],
   "source": [
    "import os\n",
    "import json\n",
    "train_ids = open(\"data/train.data.txt\", \"r\")\n",
    "train_labels = open(\"data/train.label.txt\", \"r\")\n",
    "dev_ids = open(\"data/dev.data.txt\", \"r\")\n",
    "dev_labels = open(\"data/dev.label.txt\", \"r\")\n",
    "\n",
    "\n",
    "\n",
    "def read_ids_labels(train_ids, train_labels, path = \"data/train_tweet/\"):\n",
    "    train_data = []\n",
    "    train_y = []\n",
    "    for train_ids_str, label in zip(train_ids.readlines(), train_labels.readlines()):\n",
    "        train_ids_list = train_ids_str.strip().split(\",\")\n",
    "        temp_json_list = []\n",
    "        if os.path.exists(path + train_ids_list[0] + \".json\"):\n",
    "            for train_id in train_ids_list:\n",
    "                train_path = path + train_id + \".json\"\n",
    "                if os.path.exists(train_path):\n",
    "                    tweet_json = json.load(open(train_path, \"r\"))\n",
    "                    if tweet_json not in temp_json_list:\n",
    "                        temp_json_list.append(tweet_json)\n",
    "                    # while tweet json has reference tweets, keep adding them to the list\n",
    "                    while \"referenced_tweets\" in tweet_json:\n",
    "                        referenced_tweets_id = tweet_json[\"referenced_tweets\"][0][\"id\"]\n",
    "                        if os.path.exists(path + referenced_tweets_id + \".json\"):\n",
    "                            tweet_json = json.load(open(path + referenced_tweets_id + \".json\", \"r\"))\n",
    "                            if tweet_json not in temp_json_list:\n",
    "                                temp_json_list.append(tweet_json)\n",
    "                        else:\n",
    "                            break\n",
    "\n",
    "            # sort the list by time\n",
    "            temp_json_list = sorted(temp_json_list, key=lambda x: x[\"created_at\"])\n",
    "            train_data.append(temp_json_list)\n",
    "            train_y.append(label)\n",
    "    return train_data, train_y\n",
    "\n",
    "train_set, train_label = read_ids_labels(train_ids, train_labels)\n",
    "dev_set, dev_label = read_ids_labels(dev_ids, dev_labels, path=\"data/dev_tweet/\")\n",
    "print(\"Finished!\")"
   ]
  },
  {
   "cell_type": "code",
   "execution_count": 2,
   "outputs": [
    {
     "name": "stdout",
     "output_type": "stream",
     "text": [
      "Finished!\n"
     ]
    }
   ],
   "source": [
    "test_ids = open(\"data/test.data.txt\", \"r\")\n",
    "test_set = []\n",
    "for test_ids_str in test_ids.readlines():\n",
    "    test_ids_list = test_ids_str.strip().split(\",\")\n",
    "    temp_json_list = []\n",
    "    for test_id in test_ids_list:\n",
    "        test_path = \"data/tweet-objects/\" + test_id + \".json\"\n",
    "        if os.path.exists(test_path):\n",
    "            tweet_json = json.load(open(test_path, \"r\"))\n",
    "            if tweet_json not in temp_json_list:\n",
    "                temp_json_list.append(tweet_json)\n",
    "            # while tweet json has in_reply_to_status_id, keep adding them to the list\n",
    "            while tweet_json[\"in_reply_to_status_id\"] != None:\n",
    "                in_reply_to_status_id = str(tweet_json[\"in_reply_to_status_id\"])\n",
    "                if os.path.exists(\"data/tweet-objects/\" + in_reply_to_status_id + \".json\"):\n",
    "                    tweet_json = json.load(open(\"data/tweet-objects/\" + in_reply_to_status_id + \".json\", \"r\"))\n",
    "                    if tweet_json not in temp_json_list:\n",
    "                        temp_json_list.append(tweet_json)\n",
    "                else:\n",
    "                    break\n",
    "    temp_json_list = sorted(temp_json_list, key=lambda x: x[\"created_at\"])\n",
    "    test_set.append(temp_json_list)\n",
    "print(\"Finished!\")"
   ],
   "metadata": {
    "collapsed": false,
    "pycharm": {
     "name": "#%%\n"
    }
   }
  },
  {
   "cell_type": "markdown",
   "metadata": {
    "pycharm": {
     "name": "#%% md\n"
    }
   },
   "source": [
    "## 绘制树结构"
   ]
  },
  {
   "cell_type": "code",
   "execution_count": 3,
   "metadata": {
    "pycharm": {
     "name": "#%%\n"
    }
   },
   "outputs": [],
   "source": [
    "record=train_set[0]\n",
    "\n",
    "index2tweetid=dict()\n",
    "tweetid2index=dict()\n",
    "\n",
    "nodes=[]\n",
    "edges=[]\n",
    "\n",
    "for i,tweet in enumerate(record):\n",
    "    index2tweetid[i]=tweet['id']\n",
    "    tweetid2index[tweet['id']]=i\n",
    "\n",
    "for i,tweet in enumerate(record):\n",
    "    nodes.append(i)\n",
    "    if 'referenced_tweets' in tweet.keys():\n",
    "        source=i\n",
    "        target=tweetid2index[tweet['referenced_tweets'][0]['id']]\n",
    "        edges.append((source,target))"
   ]
  },
  {
   "cell_type": "code",
   "execution_count": 5,
   "metadata": {
    "pycharm": {
     "name": "#%%\n"
    }
   },
   "outputs": [
    {
     "data": {
      "text/plain": "<Figure size 432x288 with 1 Axes>",
      "image/png": "[encoded data removed]"
     },
     "metadata": {},
     "output_type": "display_data"
    }
   ],
   "source": [
    "import networkx as nx\n",
    "\n",
    "tree = nx.DiGraph()\n",
    "tree.add_nodes_from(nodes)\n",
    "tree.add_edges_from(edges)\n",
    "\n",
    "nx.draw_networkx(tree)"
   ]
  },
  {
   "cell_type": "code",
   "execution_count": 6,
   "metadata": {
    "pycharm": {
     "name": "#%%\n"
    }
   },
   "outputs": [],
   "source": [
    "# attention: some data may contain multiple trees处理思路:\n",
    "# 遍历所有tweet，构建出多个树，只保留o(根节点)所在的树 \n",
    "\n",
    "def build_tree_from_record(record):\n",
    "    \"\"\"\n",
    "    # 基于一条数据(包含多条tweet)，获取到\n",
    "    *树中的边信息\n",
    "    * 下标到原始tweet id的映射\n",
    "    *原始tweet id到下标的映射\n",
    "    \"\"\"\n",
    "    edges = [] \n",
    "    nodes = set()\n",
    "    index2id = dict() # 下标 ->原始id \n",
    "    id2index = dict() # 原始id -> 下标 \n",
    "    id2raw = dict()\n",
    "    \n",
    "    for i, tweet in enumerate(record):# 扫描一条数据下的所有tweet\n",
    "            #记录下标和idstr之间的对应关系 \n",
    "        id2index[tweet['id']] = i \n",
    "        index2id[i] = tweet['id'] \n",
    "        id2raw[tweet['id']] = tweet\n",
    "\n",
    "    index2treeid = {0:0}  #节点下标 ->树id\n",
    "    parent2children = dict()  #父节点->孩子节点集合\n",
    "\n",
    "                 \n",
    "    def recursive_color(node_index):\n",
    "        treeid = index2treeid[node_index]\n",
    "#         print(f\"treeid: {treeid}\")\n",
    "        if node_index in parent2children:  #当前节点有孩子\n",
    "            # for child in parent2children[node_index]: \n",
    "                # index2treeidichild1=treeid  #子节点与父节点tree id一致\n",
    "            for child in parent2children[node_index]:\n",
    "                if child not in index2treeid or index2treeid[child] != treeid:\n",
    "                    index2treeid[child] = treeid\n",
    "                    recursive_color(child)\n",
    "\n",
    "                    \n",
    "    child2parent=dict()   #子节点指向父节点 \n",
    "    for i,tweet in enumerate(record):\n",
    "        #记录边信息\n",
    "        if 'referenced_tweets' in tweet.keys():\n",
    "            #父节点原始id\n",
    "            parent_id = tweet['referenced_tweets'][0].get('id',-1)\n",
    "            #父节点下标(可能为空)\n",
    "            parent_index=id2index.get(parent_id,-1)\n",
    "\n",
    "            if parent_index != -1: #可以找到父节点\n",
    "                child2parent[i] = parent_index\n",
    "\n",
    "                #将当前节点放入父节点的孩子集合中\n",
    "                if parent_index not in parent2children:\n",
    "                    parent2children[parent_index]=set() \n",
    "                parent2children[parent_index].add(i)\n",
    "\n",
    "                #如果父节点已经有树，递归将所有底层节点设置为同一棵树 \n",
    "                if parent_index in index2treeid:\n",
    "                    recursive_color(parent_index) \n",
    "                else: #否则新建一颗树(只有两个节点)\n",
    "                    tree_id = len(index2treeid) \n",
    "                    index2treeid[i] = tree_id\n",
    "                    index2treeid[parent_index] = tree_id\n",
    "            else:\n",
    "            #print(f\"节点{id2index[tweet['id_str']]}:无法找到父节点\") \n",
    "                pass\n",
    "            \n",
    "    # 提取出tree_id为0的节点和边信息\n",
    "    for node_index, tree_id in index2treeid.items():\n",
    "        if tree_id == 0:\n",
    "            nodes.add(node_index)\n",
    "            if node_index in child2parent:\n",
    "                edges.append([node_index, child2parent[node_index]])\n",
    "    \n",
    "    return nodes, edges, index2id, id2index, index2treeid, id2raw, parent2children"
   ]
  },
  {
   "cell_type": "code",
   "execution_count": 9,
   "metadata": {
    "pycharm": {
     "name": "#%%\n"
    }
   },
   "outputs": [
    {
     "data": {
      "text/plain": "<Figure size 432x288 with 1 Axes>",
      "image/png": "[encoded data removed]"
     },
     "metadata": {},
     "output_type": "display_data"
    }
   ],
   "source": [
    "import networkx as nx\n",
    "import matplotlib.pyplot as plt\n",
    "\n",
    "result = build_tree_from_record(train_set[0])\n",
    "result[-1]\n",
    "nodes=result[0]\n",
    "edges=result[1]\n",
    "\n",
    "tree = nx.DiGraph()\n",
    "tree.add_nodes_from(nodes)\n",
    "tree.add_edges_from(edges)\n",
    "\n",
    "nx.draw_networkx(tree)\n",
    "plt.show(tree)"
   ]
  },
  {
   "cell_type": "markdown",
   "source": [
    "## pytorch model"
   ],
   "metadata": {
    "collapsed": false,
    "pycharm": {
     "name": "#%% md\n"
    }
   }
  },
  {
   "cell_type": "code",
   "execution_count": 10,
   "outputs": [],
   "source": [
    "import torch\n",
    "from torch import nn"
   ],
   "metadata": {
    "collapsed": false,
    "pycharm": {
     "name": "#%%\n"
    }
   }
  },
  {
   "cell_type": "code",
   "execution_count": 11,
   "outputs": [],
   "source": [
    "def computation_order(parent2children):\n",
    "    order = []\n",
    "    queue = [0]\n",
    "    while len(queue) > 0:\n",
    "        head = queue.pop(0)\n",
    "        if head in parent2children:\n",
    "            children = parent2children[head]\n",
    "            order.append(list(children)+[head])\n",
    "            queue.extend(children)\n",
    "    if len(order) < 1:\n",
    "        order.append([0])\n",
    "    return list(reversed(order))"
   ],
   "metadata": {
    "collapsed": false,
    "pycharm": {
     "name": "#%%\n"
    }
   }
  },
  {
   "cell_type": "code",
   "execution_count": 12,
   "outputs": [],
   "source": [
    "class RecursiveTreeUnit(nn.Module):\n",
    "    def __init__(self, input_dim, memory_dim):\n",
    "        super().__init__()\n",
    "        self.input_dim = input_dim\n",
    "        self.memory_dim = memory_dim\n",
    "        self.E = nn.Linear(input_dim, memory_dim)\n",
    "        self.Wr = nn.Linear(memory_dim, memory_dim)\n",
    "        self.Ur = nn.Linear(memory_dim, memory_dim)\n",
    "        self.Wz = nn.Linear(memory_dim, memory_dim)\n",
    "        self.Uz = nn.Linear(memory_dim, memory_dim)\n",
    "        self.Wh = nn.Linear(memory_dim, memory_dim)\n",
    "        self.Uh = nn.Linear(memory_dim, memory_dim)\n",
    "\n",
    "    def forward(self, current_node, child_nodes):\n",
    "        x_j_tilde = self.E(current_node)\n",
    "        processed_child_nodes = []\n",
    "        for i, child_node in enumerate(child_nodes):\n",
    "            if child_node.size()[1] == self.input_dim:\n",
    "                x_tilde = self.E(child_node)\n",
    "                rj = torch.sigmoid(self.Wr(x_tilde))\n",
    "                zj = torch.sigmoid(self.Wz(x_tilde))\n",
    "                hj_tilde = torch.tanh(self.Wh(x_tilde))\n",
    "                hj = zj * hj_tilde\n",
    "                processed_child_nodes.append(hj)\n",
    "            elif child_node.size()[1] == self.memory_dim:\n",
    "                processed_child_nodes.append(child_node)\n",
    "\n",
    "        if len(child_nodes) > 1:\n",
    "            h_S = torch.stack(processed_child_nodes).squeeze().sum(dim=0)\n",
    "            if len(h_S.size()) < 2:\n",
    "                h_S = h_S.unsqueeze(0)\n",
    "        else:\n",
    "            h_S = processed_child_nodes[0]\n",
    "\n",
    "        r_j = torch.sigmoid(self.Wr(x_j_tilde) + self.Ur(h_S))\n",
    "        z_j = torch.sigmoid(self.Wz(x_j_tilde) + self.Uz(h_S))\n",
    "        h_j_tilde = torch.tanh(self.Wh(x_j_tilde) + self.Uh(r_j * h_S))\n",
    "        h_j = (1-z_j) * h_S + z_j * h_j_tilde\n",
    "\n",
    "        return h_j"
   ],
   "metadata": {
    "collapsed": false,
    "pycharm": {
     "name": "#%%\n"
    }
   }
  },
  {
   "cell_type": "code",
   "execution_count": null,
   "outputs": [],
   "source": [
    "class RecursiveTree(nn.Module):\n",
    "    def __init__(self, input_dim, memory_dim):\n",
    "        super().__init__()\n",
    "        self.input_dim = input_dim\n",
    "        self.memory_dim = memory_dim\n",
    "        self.tree_unit = RecursiveTreeUnit(input_dim, memory_dim)\n",
    "        self.classifier = nn.Linear(memory_dim, 2)\n",
    "\n",
    "    def forward(self, order, index2vec):\n",
    "        for seq in order:\n",
    "            current = seq[-1]\n",
    "            children = seq[:-1]\n",
    "            child_vecs = []\n",
    "            for child in children:\n",
    "                if child in encoded_node_vecs:\n",
    "                    child_vec = encoded_node_vecs[child]\n",
    "                else:\n",
    "                    child_vec = index2vec[child]\n",
    "                child_vecs.append(child_vec)\n",
    "            current_vec = index2vec[current]\n",
    "            encoded_node_vec = self.tree_unit(current_vec, child_vecs)\n",
    "            encoded_node_vecs[current] = encoded_node_vec\n",
    "        tree_vec = encoded_node_vecs[0]\n",
    "        logits = self.classifier(tree_vec)\n",
    "        return logits"
   ],
   "metadata": {
    "collapsed": false,
    "pycharm": {
     "name": "#%%\n"
    }
   }
  },
  {
   "cell_type": "code",
   "execution_count": null,
   "outputs": [],
   "source": [],
   "metadata": {
    "collapsed": false,
    "pycharm": {
     "name": "#%%\n"
    }
   }
  }
 ],
 "metadata": {
  "kernelspec": {
   "display_name": "Python 3",
   "language": "python",
   "name": "python3"
  },
  "language_info": {
   "codemirror_mode": {
    "name": "ipython",
    "version": 3
   },
   "file_extension": ".py",
   "mimetype": "text/x-python",
   "name": "python",
   "nbconvert_exporter": "python",
   "pygments_lexer": "ipython3",
   "version": "3.7.11"
  }
 },
 "nbformat": 4,
 "nbformat_minor": 1
}