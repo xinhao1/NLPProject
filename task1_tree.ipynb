{
 "cells": [
  {
   "cell_type": "markdown",
   "metadata": {
    "pycharm": {
     "name": "#%% md\n"
    }
   },
   "source": [
    "## Crawl tweets by API"
   ]
  },
  {
   "cell_type": "code",
   "execution_count": 1,
   "metadata": {
    "pycharm": {
     "name": "#%%\n"
    }
   },
   "outputs": [],
   "source": [
    "# ! pip install tqdm\n",
    "# ! pip install tweepy\n",
    "# ! pip install torch\n",
    "# ! pip install transformers\n",
    "# ! pip install emoji"
   ]
  },
  {
   "cell_type": "code",
   "execution_count": null,
   "metadata": {
    "pycharm": {
     "name": "#%%\n"
    }
   },
   "outputs": [],
   "source": [
    "# https://github.com/twitterdev/Twitter-API-v2-sample-code/blob/main/Tweet-Lookup/get_tweets_with_bearer_token.py\n",
    "import requests\n",
    "import json\n",
    "import time\n",
    "from tqdm import tqdm\n",
    "\n",
    "# To set your bearer token:\n",
    "bearer_token = \"AAAAAAAAAAAAAAAAAAAAAGdZbgEAAAAAlXMiIg%2F96Ygnv%2FmvFDMsWb6LuSw%3DPTSIRz5g0G9RaB9pxp8QhdTtHxXnhEZsjLkpNyqQBR8EfRy8WS\"\n",
    "\n",
    "\n",
    "def create_url(ids):\n",
    "    tweet_fields = \"tweet.fields=attachments,author_id,context_annotations,conversation_id,created_at,entities,geo,id,in_reply_to_user_id,lang,public_metrics,possibly_sensitive,referenced_tweets,reply_settings,source,text,withheld\"\n",
    "    # Tweet fields are adjustable.\n",
    "    # Options include:\n",
    "    # attachments, author_id, context_annotations,\n",
    "    # conversation_id, created_at, entities, geo, id,\n",
    "    # in_reply_to_user_id, lang, non_public_metrics, organic_metrics,\n",
    "    # possibly_sensitive, promoted_metrics, public_metrics, referenced_tweets,\n",
    "    # source, text, and withheld\n",
    "    ids = \"ids=\" + ids\n",
    "    # print(ids)\n",
    "    # You can adjust ids to include a single Tweets.\n",
    "    # Or you can add to up to 100 comma-separated IDs\n",
    "    url = \"https://api.twitter.com/2/tweets?{}&{}\".format(ids, tweet_fields)\n",
    "    return url\n",
    "\n",
    "\n",
    "def bearer_oauth(r):\n",
    "    \"\"\"\n",
    "    Method required by bearer token authentication.\n",
    "    \"\"\"\n",
    "    r.headers[\"Authorization\"] = f\"Bearer {bearer_token}\"\n",
    "    r.headers[\"User-Agent\"] = \"v2TweetLookupPython\"\n",
    "    return r\n",
    "\n",
    "\n",
    "def connect_to_endpoint(url):\n",
    "    response = requests.request(\"GET\", url, auth=bearer_oauth)\n",
    "    # print(response.status_code)\n",
    "    if response.status_code != 200:\n",
    "        raise Exception(\n",
    "            \"Request returned an error: {} {}\".format(\n",
    "                response.status_code, response.text\n",
    "            )\n",
    "        )\n",
    "    return response.json()\n",
    "\n",
    "\n",
    "def crawl_and_save(f_in, f_out):\n",
    "    train_id_list = []\n",
    "    for l in f_in.readlines():\n",
    "        train_id_list.extend(l.strip().split(\",\"))\n",
    "    start_id = 0\n",
    "    end_id = start_id + 100\n",
    "    train_id_len = len(train_id_list)\n",
    "    # max 100 tweet\n",
    "    split_crawl = []\n",
    "    while start_id < train_id_len:\n",
    "        split_crawl.append(\",\".join(train_id_list[start_id:end_id]))\n",
    "        start_id = end_id\n",
    "        end_id = start_id + 100\n",
    "\n",
    "    crawl_count = 0\n",
    "    for ids in tqdm(split_crawl):\n",
    "        url = create_url(ids)\n",
    "        json_response = connect_to_endpoint(url)\n",
    "        for x in json_response[\"data\"]:\n",
    "            json.dump(x, open(f_out + str(x[\"id\"]) + \".json\", \"w\"))\n",
    "        crawl_count += 1\n",
    "        if crawl_count % 290 == 0:\n",
    "            time.sleep(790)\n",
    "\n",
    "# un-comment to crawl tweets\n",
    "def main():\n",
    "    print(\"crawl the train tweets\")\n",
    "    #crawl_and_save(open(\"data/train.data.txt\", \"r\"), \"data/train_tweet/\")\n",
    "    # print(\"crawl the dev tweets\")\n",
    "    # crawl_and_save(open(\"data/dev.data.txt\", \"r\"), \"data/dev_tweet/\")\n",
    "    # print(\"crawl the analysis tweets\")\n",
    "    # crawl_and_save(open(\"data/covid.data.txt\", \"r\"), \"data/analysis_tweet/\")\n",
    "    print(\"Finished!\")\n",
    "\n",
    "if __name__ == \"__main__\":\n",
    "    main()\n"
   ]
  },
  {
   "cell_type": "markdown",
   "metadata": {
    "pycharm": {
     "name": "#%% md\n"
    }
   },
   "source": [
    "## Dataset read-in"
   ]
  },
  {
   "cell_type": "markdown",
   "metadata": {
    "pycharm": {
     "name": "#%% md\n"
    }
   },
   "source": [
    "Read-in tweets and labels, then sort one tweet with retweets by time"
   ]
  },
  {
   "cell_type": "code",
   "execution_count": 47,
   "metadata": {
    "pycharm": {
     "name": "#%%\n"
    }
   },
   "outputs": [
    {
     "name": "stdout",
     "output_type": "stream",
     "text": [
      "Finished!\n"
     ]
    }
   ],
   "source": [
    "import os\n",
    "import json\n",
    "import time\n",
    "train_ids = open(\"data/train.data.txt\", \"r\")\n",
    "train_labels = open(\"data/train.label.txt\", \"r\")\n",
    "dev_ids = open(\"data/dev.data.txt\", \"r\")\n",
    "dev_labels = open(\"data/dev.label.txt\", \"r\")\n",
    "\n",
    "def read_train_ids_labels(ids, labels, test = False):\n",
    "    train_set = []\n",
    "    train_label = []\n",
    "    for train_ids_str, label in zip(ids.readlines(), labels.readlines()):\n",
    "        train_ids_list = train_ids_str.strip().split(\",\")\n",
    "        temp_json_list = []\n",
    "        if os.path.exists(\"data/train_tweet/\" + train_ids_list[0] + \".json\"):\n",
    "            for train_id in train_ids_list:\n",
    "                train_path = \"data/train_tweet/\" + train_id + \".json\"\n",
    "                if os.path.exists(train_path):\n",
    "                    temp_json_list.append(json.load(open(train_path, \"r\")))\n",
    "        # sort according to time\n",
    "        temp_json_list = sorted(temp_json_list, key=lambda x: time.mktime(time.strptime(x[\"created_at\"], '%Y-%m-%dT%H:%M:%S.%fZ')))\n",
    "        train_set.append(temp_json_list)\n",
    "        if label.strip() == \"rumour\":\n",
    "            train_label.append(1)\n",
    "        else:\n",
    "            train_label.append(0)\n",
    "\n",
    "    return train_set, train_label\n",
    "\n",
    "\n",
    "def read_dev_ids_labels(ids, labels, test = False):\n",
    "    train_set = []\n",
    "    train_label = []\n",
    "    for train_ids_str, label in zip(ids.readlines(), labels.readlines()):\n",
    "        train_ids_list = train_ids_str.strip().split(\",\")\n",
    "        temp_json_list = []\n",
    "        if os.path.exists(\"data/dev_tweet/\" + train_ids_list[0] + \".json\"):\n",
    "            for train_id in train_ids_list:\n",
    "                train_path = \"data/dev_tweet/\" + train_id + \".json\"\n",
    "                if os.path.exists(train_path):\n",
    "                    temp_json_list.append(json.load(open(train_path, \"r\")))\n",
    "        # sort according to time\n",
    "        temp_json_list = sorted(temp_json_list, key=lambda x: time.mktime(time.strptime(x[\"created_at\"], '%Y-%m-%dT%H:%M:%S.%fZ')))\n",
    "        train_set.append(temp_json_list)\n",
    "        if label.strip() == \"rumour\":\n",
    "            train_label.append(1)\n",
    "        else:\n",
    "            train_label.append(0)\n",
    "\n",
    "    return train_set, train_label\n",
    "\n",
    "train_set, train_label = read_train_ids_labels(train_ids, train_labels)\n",
    "dev_set, dev_label = read_dev_ids_labels(dev_ids, dev_labels)\n",
    "print(\"Finished!\")"
   ]
  },
  {
   "cell_type": "code",
   "execution_count": 77,
   "metadata": {
    "pycharm": {
     "name": "#%%\n"
    }
   },
   "outputs": [
    {
     "data": {
      "text/plain": [
       "{'lang': 'en',\n",
       " 'conversation_id': '554886875303780352',\n",
       " 'attachments': {'media_keys': ['3_554884286327685120']},\n",
       " 'reply_settings': 'everyone',\n",
       " 'public_metrics': {'retweet_count': 184,\n",
       "  'reply_count': 35,\n",
       "  'like_count': 44,\n",
       "  'quote_count': 0},\n",
       " 'source': 'TweetDeck',\n",
       " 'entities': {'urls': [{'start': 62,\n",
       "    'end': 84,\n",
       "    'url': 'http://t.co/KC8nCzimBl',\n",
       "    'expanded_url': 'http://www.telegraph.co.uk/news/worldnews/europe/france/11341295/French-police-chief-committed-suicide-after-Charlie-Hebdo-attack.html',\n",
       "    'display_url': 'telegraph.co.uk/news/worldnews…'},\n",
       "   {'start': 85,\n",
       "    'end': 107,\n",
       "    'url': 'http://t.co/EnZQarIezF',\n",
       "    'expanded_url': 'https://twitter.com/Telegraph/status/554886875303780352/photo/1',\n",
       "    'display_url': 'pic.twitter.com/EnZQarIezF'}],\n",
       "  'hashtags': [{'start': 41, 'end': 54, 'tag': 'CharlieHebdo'}]},\n",
       " 'id': '554886875303780352',\n",
       " 'text': 'French police chief killed himself after #CharlieHebdo attack http://t.co/KC8nCzimBl http://t.co/EnZQarIezF',\n",
       " 'author_id': '16343974',\n",
       " 'possibly_sensitive': False,\n",
       " 'created_at': '2015-01-13T06:25:15.000Z'}"
      ]
     },
     "execution_count": 77,
     "metadata": {},
     "output_type": "execute_result"
    }
   ],
   "source": [
    "train_set[1][0]\n",
    "# print(\"dev:\", dev_set[0])"
   ]
  },
  {
   "cell_type": "markdown",
   "metadata": {},
   "source": [
    "## 绘制树结构"
   ]
  },
  {
   "cell_type": "code",
   "execution_count": 115,
   "metadata": {},
   "outputs": [
    {
     "ename": "KeyError",
     "evalue": "'1250218948701769728'",
     "output_type": "error",
     "traceback": [
      "\u001b[0;31m---------------------------------------------------------------------------\u001b[0m",
      "\u001b[0;31mKeyError\u001b[0m                                  Traceback (most recent call last)",
      "\u001b[0;32m<ipython-input-115-1390fd576c2b>\u001b[0m in \u001b[0;36m<module>\u001b[0;34m\u001b[0m\n\u001b[1;32m     15\u001b[0m     \u001b[0;32mif\u001b[0m \u001b[0;34m'referenced_tweets'\u001b[0m \u001b[0;32min\u001b[0m \u001b[0mtweet\u001b[0m\u001b[0;34m.\u001b[0m\u001b[0mkeys\u001b[0m\u001b[0;34m(\u001b[0m\u001b[0;34m)\u001b[0m\u001b[0;34m:\u001b[0m\u001b[0;34m\u001b[0m\u001b[0;34m\u001b[0m\u001b[0m\n\u001b[1;32m     16\u001b[0m         \u001b[0msource\u001b[0m\u001b[0;34m=\u001b[0m\u001b[0mi\u001b[0m\u001b[0;34m\u001b[0m\u001b[0;34m\u001b[0m\u001b[0m\n\u001b[0;32m---> 17\u001b[0;31m         \u001b[0mtarget\u001b[0m\u001b[0;34m=\u001b[0m\u001b[0mtweetid2index\u001b[0m\u001b[0;34m[\u001b[0m\u001b[0mtweet\u001b[0m\u001b[0;34m[\u001b[0m\u001b[0;34m'referenced_tweets'\u001b[0m\u001b[0;34m]\u001b[0m\u001b[0;34m[\u001b[0m\u001b[0;36m0\u001b[0m\u001b[0;34m]\u001b[0m\u001b[0;34m[\u001b[0m\u001b[0;34m'id'\u001b[0m\u001b[0;34m]\u001b[0m\u001b[0;34m]\u001b[0m\u001b[0;34m\u001b[0m\u001b[0;34m\u001b[0m\u001b[0m\n\u001b[0m\u001b[1;32m     18\u001b[0m         \u001b[0medges\u001b[0m\u001b[0;34m.\u001b[0m\u001b[0mappend\u001b[0m\u001b[0;34m(\u001b[0m\u001b[0;34m(\u001b[0m\u001b[0msource\u001b[0m\u001b[0;34m,\u001b[0m\u001b[0mtarget\u001b[0m\u001b[0;34m)\u001b[0m\u001b[0;34m)\u001b[0m\u001b[0;34m\u001b[0m\u001b[0;34m\u001b[0m\u001b[0m\n",
      "\u001b[0;31mKeyError\u001b[0m: '1250218948701769728'"
     ]
    }
   ],
   "source": [
    "record=train_set[0]\n",
    "\n",
    "index2tweetid=dict()\n",
    "tweetid2index=dict()\n",
    "\n",
    "nodes=[]\n",
    "edges=[]\n",
    "\n",
    "for i,tweet in enumerate(record):\n",
    "    index2tweetid[i]=tweet['id']\n",
    "    tweetid2index[tweet['id']]=i\n",
    "\n",
    "for i,tweet in enumerate(record):\n",
    "    nodes.append(i)\n",
    "    if 'referenced_tweets' in tweet.keys():\n",
    "        source=i\n",
    "        target=tweetid2index[tweet['referenced_tweets'][0]['id']]\n",
    "        edges.append((source,target))"
   ]
  },
  {
   "cell_type": "code",
   "execution_count": 99,
   "metadata": {},
   "outputs": [],
   "source": [
    "import networkx as nx\n",
    "\n",
    "tree = nx.DiGraph()\n",
    "tree.add_nodes_from(nodes)\n",
    "tree.add_edges_from(edges)\n",
    "\n",
    "nx.draw_networkx(tree)"
   ]
  },
  {
   "cell_type": "code",
   "execution_count": 95,
   "metadata": {},
   "outputs": [],
   "source": [
    "# attention: some data may contain multiple trees处理思路:\n",
    "# 遍历所有tweet，构建出多个树，只保留o(根节点)所在的树 \n",
    "\n",
    "def build_tree_from_record(record):\n",
    "    \"\"\"\n",
    "    # 基于一条数据(包含多条tweet)，获取到\n",
    "    *树中的边信息\n",
    "    * 下标到原始tweet id的映射\n",
    "    *原始tweet id到下标的映射\n",
    "    \"\"\"\n",
    "    edges = [] \n",
    "    nodes = set()\n",
    "    index2id = dict() # 下标 ->原始id \n",
    "    id2index = dict() # 原始id -> 下标 \n",
    "    id2raw = dict()\n",
    "    \n",
    "    for i, tweet in enumerate(record):# 扫描一条数据下的所有tweet\n",
    "            #记录下标和idstr之间的对应关系 \n",
    "        id2index[tweet['id']] = i \n",
    "        index2id[i] = tweet['id'] \n",
    "        id2raw[tweet['id']] = tweet\n",
    "\n",
    "    index2treeid = {0:0}  #节点下标 ->树id\n",
    "    parent2children = dict()  #父节点->孩子节点集合\n",
    "\n",
    "                 \n",
    "    def recursive_color(node_index):\n",
    "        treeid = index2treeid[node_index]\n",
    "#         print(f\"treeid: {treeid}\")\n",
    "        if node_index in parent2children:  #当前节点有孩子\n",
    "            # for child in parent2children[node_index]: \n",
    "                # index2treeidichild1=treeid  #子节点与父节点tree id一致\n",
    "            for child in parent2children[node_index]:\n",
    "                if child not in index2treeid or index2treeid[child] != treeid:\n",
    "                    index2treeid[child] = treeid\n",
    "                    recursive_color(child)\n",
    "\n",
    "                    \n",
    "    child2parent=dict()   #子节点指向父节点 \n",
    "    for i,tweet in enumerate(record):\n",
    "        #记录边信息\n",
    "        if 'referenced_tweets' in tweet.keys():\n",
    "            #父节点原始id\n",
    "            parent_id = tweet['referenced_tweets'][0].get('id',-1)\n",
    "            #父节点下标(可能为空)\n",
    "            parent_index=id2index.get(parent_id,-1)\n",
    "\n",
    "            if parent_index != -1: #可以找到父节点\n",
    "                child2parent[i] = parent_index\n",
    "\n",
    "                #将当前节点放入父节点的孩子集合中\n",
    "                if parent_index not in parent2children:\n",
    "                    parent2children[parent_index]=set() \n",
    "                parent2children[parent_index].add(i)\n",
    "\n",
    "                #如果父节点已经有树，递归将所有底层节点设置为同一棵树 \n",
    "                if parent_index in index2treeid:\n",
    "                    recursive_color(parent_index) \n",
    "                else: #否则新建一颗树(只有两个节点)\n",
    "                    tree_id = len(index2treeid) \n",
    "                    index2treeid[i] = tree_id\n",
    "                    index2treeid[parent_index] = tree_id\n",
    "            else:\n",
    "            #print(f\"节点{id2index[tweet['id_str']]}:无法找到父节点\") \n",
    "                pass\n",
    "            \n",
    "    # 提取出tree_id为0的节点和边信息\n",
    "    for node_index, tree_id in index2treeid.items():\n",
    "        if tree_id == 0:\n",
    "            nodes.add(node_index)\n",
    "            if node_index in child2parent:\n",
    "                edges.append([node_index, child2parent[node_index]])\n",
    "    \n",
    "    return nodes, edges, index2id, id2index, index2treeid, id2raw, parent2children"
   ]
  },
  {
   "cell_type": "code",
   "execution_count": 114,
   "metadata": {},
   "outputs": [
    {
     "data": {
      "image/png": "[encoded data removed]",
      "text/plain": [
       "<Figure size 640x480 with 1 Axes>"
      ]
     },
     "metadata": {},
     "output_type": "display_data"
    }
   ],
   "source": [
    "import networkx as nx\n",
    "import matplotlib.pyplot as plt\n",
    "\n",
    "result = build_tree_from_record(train_set[0])\n",
    "result[-1]\n",
    "nodes=result[0]\n",
    "edges=result[1]\n",
    "\n",
    "tree = nx.DiGraph()\n",
    "tree.add_nodes_from(nodes)\n",
    "tree.add_edges_from(edges)\n",
    "\n",
    "nx.draw_networkx(tree)\n",
    "plt.show(tree)"
   ]
  },
  {
   "cell_type": "code",
   "execution_count": null,
   "metadata": {},
   "outputs": [],
   "source": []
  },
  {
   "cell_type": "markdown",
   "metadata": {},
   "source": [
    "# 暂时不管"
   ]
  },
  {
   "cell_type": "code",
   "execution_count": 8,
   "metadata": {
    "pycharm": {
     "name": "#%%\n"
    }
   },
   "outputs": [
    {
     "name": "stdout",
     "output_type": "stream",
     "text": [
      "Finished!\n"
     ]
    }
   ],
   "source": [
    "# read in test data\n",
    "test_ids = open(\"data/test.data.txt\", \"r\")\n",
    "test_set = []\n",
    "for test_ids_str in test_ids.readlines():\n",
    "    test_ids_list = test_ids_str.strip().split(\",\")\n",
    "    temp_json_list = []\n",
    "    for test_id in test_ids_list:\n",
    "        test_path = \"data/tweet-objects/\" + test_id + \".json\"\n",
    "        if os.path.exists(test_path):\n",
    "            temp_json_list.append(json.load(open(test_path, \"r\")))\n",
    "\n",
    "    # sort according to time\n",
    "    temp_json_list = sorted(temp_json_list, key=lambda x: time.mktime(time.strptime(x[\"created_at\"], '%a %b %d %H:%M:%S +0000 %Y')))\n",
    "    # temp_json_list = sorted(temp_json_list, key=lambda x: time.mktime(time.strptime(x[\"created_at\"], '%Y-%m-%dT%H:%M:%S.%fZ')))\n",
    "    test_set.append(temp_json_list)\n",
    "\n",
    "print(\"Finished!\")"
   ]
  },
  {
   "cell_type": "code",
   "execution_count": 9,
   "metadata": {},
   "outputs": [],
   "source": [
    "# print(test_set[0])"
   ]
  },
  {
   "cell_type": "markdown",
   "metadata": {
    "pycharm": {
     "name": "#%% md\n"
    }
   },
   "source": [
    "Try to use workshop 10 bert model"
   ]
  },
  {
   "cell_type": "code",
   "execution_count": 10,
   "metadata": {
    "pycharm": {
     "name": "#%%\n"
    }
   },
   "outputs": [
    {
     "name": "stderr",
     "output_type": "stream",
     "text": [
      "Some weights of the model checkpoint at vinai/bertweet-covid19-base-uncased were not used when initializing RobertaModel: ['lm_head.layer_norm.bias', 'lm_head.dense.bias', 'lm_head.bias', 'lm_head.dense.weight', 'lm_head.decoder.bias', 'lm_head.decoder.weight', 'lm_head.layer_norm.weight']\n",
      "- This IS expected if you are initializing RobertaModel from the checkpoint of a model trained on another task or with another architecture (e.g. initializing a BertForSequenceClassification model from a BertForPreTraining model).\n",
      "- This IS NOT expected if you are initializing RobertaModel from the checkpoint of a model that you expect to be exactly identical (initializing a BertForSequenceClassification model from a BertForSequenceClassification model).\n",
      "Special tokens have been added in the vocabulary, make sure the associated word embeddings are fine-tuned or trained.\n"
     ]
    }
   ],
   "source": [
    "from transformers import AutoModel, AutoTokenizer\n",
    "from transformers import AdamW\n",
    "import torch\n",
    "pre_trained_weights = \"vinai/bertweet-covid19-base-uncased\"\n",
    "bertweet = AutoModel.from_pretrained(pre_trained_weights)\n",
    "tokenizer = AutoTokenizer.from_pretrained(pre_trained_weights, normalization=True)"
   ]
  },
  {
   "cell_type": "markdown",
   "metadata": {
    "pycharm": {
     "name": "#%% md\n"
    }
   },
   "source": [
    "Combine a tweet and its retweets into one string"
   ]
  },
  {
   "cell_type": "code",
   "execution_count": 11,
   "metadata": {
    "pycharm": {
     "name": "#%%\n"
    }
   },
   "outputs": [],
   "source": [
    "def combine_tweet_retweet(train_set):\n",
    "    all_tweets = []\n",
    "\n",
    "    for tweets in train_set:\n",
    "        tweets_list = []\n",
    "        for tweet in tweets:\n",
    "            text = tweet[\"text\"]\n",
    "            text_list = []\n",
    "            # replace @user and http\n",
    "            for word in text.split(\" \"):\n",
    "                if len(word) > 1 and word[0] == \"@\":\n",
    "                    text_list.append(\"@USER\")\n",
    "                elif len(word) > 4 and word[0:4] == \"http\":\n",
    "                    text_list.append(\"HTTPURL\")\n",
    "                else:\n",
    "                    text_list.append(word)\n",
    "            new_text = \" \".join(text_list)\n",
    "            tweets_list.append(new_text)\n",
    "        all_tweets.append(tokenizer.sep_token.join(tweets_list))\n",
    "\n",
    "    return all_tweets\n",
    "\n",
    "train_text = combine_tweet_retweet(train_set)\n",
    "dev_text = combine_tweet_retweet(dev_set)\n",
    "test_text = combine_tweet_retweet(test_set)"
   ]
  },
  {
   "cell_type": "code",
   "execution_count": 21,
   "metadata": {
    "pycharm": {
     "name": "#%%\n"
    },
    "scrolled": true
   },
   "outputs": [
    {
     "data": {
      "text/plain": [
       "'4. Can eating garlic help prevent infection with the new coronavirus? #COVID19Malaysia HTTPURL</s>5. Can regularly rinsing your nose with saline help prevent infection with the new coronavirus? HTTPURL</s>6. Do vaccines against pneumonia protect you against the new coronavirus? HTTPURL</s>7. Can spraying alcohol or chlorine all over your body kill the new coronavirus? #Chamber HTTPURL</s>8. How effective are thermal scanners in detecting people infected with the new coronavirus? HTTPURL</s>9. Can an ultraviolet disinfection lamp kill the new coronavirus? HTTPURL</s>10. Are hand dryers effective in killing the new coronavirus? HTTPURL</s>11. The new coronavirus CANNOT be transmitted through mosquito bites. HTTPURL</s>12. Taking a hot bath does not prevent the new coronavirus disease HTTPURL</s>13. Cold weather and snow CANNOT kill the new coronavirus. HTTPURL</s>14. COVID-19 virus can be transmitted in areas with hot and humid climates HTTPURL</s>15. Drinking alcohol does not protect you against COVID-19 and can be dangerous HTTPURL</s>16. Being able to hold your breath for 10 seconds or more without coughing or feeling discomfort DOES NOT mean you are free from the coronavirus disease (COVID-19) or any other lung disease. HTTPURL</s>17. You can recover from the coronavirus disease (COVID-19). Catching the new coronavirus DOES NOT mean you will have it for life. HTTPURL</s>18. Exposing yourself to the sun or to temperatures higher than 25C degrees DOES NOT prevent the coronavirus disease (COVID-19) HTTPURL</s>19. 5G mobile networks DO NOT spread COVID-19 HTTPURL'"
      ]
     },
     "execution_count": 21,
     "metadata": {},
     "output_type": "execute_result"
    }
   ],
   "source": [
    "train_text[0]"
   ]
  },
  {
   "cell_type": "code",
   "execution_count": null,
   "metadata": {},
   "outputs": [],
   "source": []
  }
 ],
 "metadata": {
  "kernelspec": {
   "display_name": "Python 3",
   "language": "python",
   "name": "python3"
  },
  "language_info": {
   "codemirror_mode": {
    "name": "ipython",
    "version": 3
   },
   "file_extension": ".py",
   "mimetype": "text/x-python",
   "name": "python",
   "nbconvert_exporter": "python",
   "pygments_lexer": "ipython3",
   "version": "3.7.11"
  }
 },
 "nbformat": 4,
 "nbformat_minor": 1
}
