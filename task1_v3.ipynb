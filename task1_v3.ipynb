{
 "cells": [
  {
   "cell_type": "code",
   "execution_count": 1,
   "outputs": [
    {
     "name": "stdout",
     "output_type": "stream",
     "text": [
      "Finished!\n"
     ]
    }
   ],
   "source": [
    "import os\n",
    "import json\n",
    "import time\n",
    "train_ids = open(\"data/train.data.txt\", \"r\")\n",
    "train_labels = open(\"data/train.label.txt\", \"r\")\n",
    "dev_ids = open(\"data/dev.data.txt\", \"r\")\n",
    "dev_labels = open(\"data/dev.label.txt\", \"r\")\n",
    "\n",
    "def read_ids_labels(ids, labels, test = False):\n",
    "    train_set = []\n",
    "    train_label = []\n",
    "    for train_ids_str, label in zip(ids.readlines(), labels.readlines()):\n",
    "        train_ids_list = train_ids_str.strip().split(\",\")\n",
    "        temp_json_list = []\n",
    "        if os.path.exists(\"data/train_tweet/\" + train_ids_list[0] + \".json\"):\n",
    "            for train_id in train_ids_list:\n",
    "                train_path = \"data/train_tweet/\" + train_id + \".json\"\n",
    "                if os.path.exists(train_path):\n",
    "                    temp_json_list.append(json.load(open(train_path, \"r\")))\n",
    "        # sort according to time\n",
    "        temp_json_list = sorted(temp_json_list, key=lambda x: time.mktime(time.strptime(x[\"created_at\"], '%Y-%m-%dT%H:%M:%S.%fZ')))\n",
    "        train_set.append(temp_json_list)\n",
    "        if label.strip() == \"rumour\":\n",
    "            train_label.append(1)\n",
    "        else:\n",
    "            train_label.append(0)\n",
    "\n",
    "    return train_set, train_label\n",
    "\n",
    "train_set, train_label = read_ids_labels(train_ids, train_labels)\n",
    "dev_set, dev_label = read_ids_labels(dev_ids, dev_labels)\n",
    "print(\"Finished!\")"
   ],
   "metadata": {
    "collapsed": false,
    "pycharm": {
     "name": "#%%\n"
    }
   }
  },
  {
   "cell_type": "code",
   "execution_count": 2,
   "outputs": [
    {
     "data": {
      "text/plain": "[{'entities': {'urls': [{'start': 87,\n     'end': 110,\n     'url': 'https://t.co/q133xXBiwl',\n     'expanded_url': 'https://twitter.com/ucoptempe/status/1250219116993974272/photo/1',\n     'display_url': 'pic.twitter.com/q133xXBiwl'}],\n   'hashtags': [{'start': 70, 'end': 86, 'tag': 'COVID19Malaysia'}]},\n  'id': '1250219116993974272',\n  'context_annotations': [{'domain': {'id': '123',\n     'name': 'Ongoing News Story',\n     'description': \"Ongoing News Stories like 'Brexit'\"},\n    'entity': {'id': '1220701888179359745', 'name': 'COVID-19'}},\n   {'domain': {'id': '30',\n     'name': 'Entities [Entity Service]',\n     'description': 'Entity Service top level domain, every item that is in Entity Service should be in this domain'},\n    'entity': {'id': '825047692124442624',\n     'name': 'Food',\n     'description': 'Food'}},\n   {'domain': {'id': '30',\n     'name': 'Entities [Entity Service]',\n     'description': 'Entity Service top level domain, every item that is in Entity Service should be in this domain'},\n    'entity': {'id': '824777229892661248',\n     'name': 'Generic Food',\n     'description': 'Generic Food'}},\n   {'domain': {'id': '30',\n     'name': 'Entities [Entity Service]',\n     'description': 'Entity Service top level domain, every item that is in Entity Service should be in this domain'},\n    'entity': {'id': '842797798626009088',\n     'name': 'Vegetable recipes',\n     'description': 'Vegetables'}}],\n  'referenced_tweets': [{'type': 'replied_to', 'id': '1250218948701769728'}],\n  'lang': 'en',\n  'reply_settings': 'everyone',\n  'possibly_sensitive': False,\n  'public_metrics': {'retweet_count': 0,\n   'reply_count': 1,\n   'like_count': 0,\n   'quote_count': 0},\n  'text': '4. Can eating garlic help prevent infection with the new coronavirus? #COVID19Malaysia https://t.co/q133xXBiwl',\n  'conversation_id': '1250217682533642240',\n  'attachments': {'media_keys': ['3_1250219081166254081']},\n  'source': 'Twitter Web App',\n  'created_at': '2020-04-15T00:27:20.000Z',\n  'in_reply_to_user_id': '312362691',\n  'author_id': '312362691'},\n {'public_metrics': {'retweet_count': 0,\n   'reply_count': 1,\n   'like_count': 0,\n   'quote_count': 0},\n  'source': 'Twitter Web App',\n  'context_annotations': [{'domain': {'id': '123',\n     'name': 'Ongoing News Story',\n     'description': \"Ongoing News Stories like 'Brexit'\"},\n    'entity': {'id': '1220701888179359745', 'name': 'COVID-19'}}],\n  'conversation_id': '1250217682533642240',\n  'id': '1250219300389974016',\n  'text': '5. Can regularly rinsing your nose with saline help prevent infection with the new coronavirus? https://t.co/ccMjhhD7BK',\n  'reply_settings': 'everyone',\n  'possibly_sensitive': False,\n  'entities': {'urls': [{'start': 96,\n     'end': 119,\n     'url': 'https://t.co/ccMjhhD7BK',\n     'expanded_url': 'https://twitter.com/ucoptempe/status/1250219300389974016/photo/1',\n     'display_url': 'pic.twitter.com/ccMjhhD7BK'}]},\n  'referenced_tweets': [{'type': 'replied_to', 'id': '1250219116993974272'}],\n  'in_reply_to_user_id': '312362691',\n  'created_at': '2020-04-15T00:28:03.000Z',\n  'lang': 'en',\n  'attachments': {'media_keys': ['3_1250219288406810624']},\n  'author_id': '312362691'},\n {'public_metrics': {'retweet_count': 0,\n   'reply_count': 1,\n   'like_count': 0,\n   'quote_count': 0},\n  'source': 'Twitter Web App',\n  'context_annotations': [{'domain': {'id': '123',\n     'name': 'Ongoing News Story',\n     'description': \"Ongoing News Stories like 'Brexit'\"},\n    'entity': {'id': '1220701888179359745', 'name': 'COVID-19'}}],\n  'conversation_id': '1250217682533642240',\n  'id': '1250219437027766273',\n  'text': '6. Do vaccines against pneumonia protect you against the new coronavirus? https://t.co/wL0mlEqU95',\n  'reply_settings': 'everyone',\n  'possibly_sensitive': False,\n  'entities': {'urls': [{'start': 74,\n     'end': 97,\n     'url': 'https://t.co/wL0mlEqU95',\n     'expanded_url': 'https://twitter.com/ucoptempe/status/1250219437027766273/photo/1',\n     'display_url': 'pic.twitter.com/wL0mlEqU95'}]},\n  'referenced_tweets': [{'type': 'replied_to', 'id': '1250219300389974016'}],\n  'in_reply_to_user_id': '312362691',\n  'created_at': '2020-04-15T00:28:36.000Z',\n  'lang': 'en',\n  'attachments': {'media_keys': ['3_1250219431004745729']},\n  'author_id': '312362691'},\n {'public_metrics': {'retweet_count': 0,\n   'reply_count': 1,\n   'like_count': 0,\n   'quote_count': 0},\n  'source': 'Twitter Web App',\n  'context_annotations': [{'domain': {'id': '123',\n     'name': 'Ongoing News Story',\n     'description': \"Ongoing News Stories like 'Brexit'\"},\n    'entity': {'id': '1220701888179359745', 'name': 'COVID-19'}}],\n  'conversation_id': '1250217682533642240',\n  'entities': {'hashtags': [{'start': 81, 'end': 89, 'tag': 'Chamber'}],\n   'urls': [{'start': 90,\n     'end': 113,\n     'url': 'https://t.co/zunVR7Ht0V',\n     'expanded_url': 'https://twitter.com/ucoptempe/status/1250219620939657216/photo/1',\n     'display_url': 'pic.twitter.com/zunVR7Ht0V'}]},\n  'id': '1250219620939657216',\n  'text': '7. Can spraying alcohol or chlorine all over your body kill the new coronavirus? #Chamber https://t.co/zunVR7Ht0V',\n  'reply_settings': 'everyone',\n  'possibly_sensitive': False,\n  'referenced_tweets': [{'type': 'replied_to', 'id': '1250219437027766273'}],\n  'in_reply_to_user_id': '312362691',\n  'created_at': '2020-04-15T00:29:20.000Z',\n  'lang': 'en',\n  'attachments': {'media_keys': ['3_1250219494405844992']},\n  'author_id': '312362691'},\n {'public_metrics': {'retweet_count': 0,\n   'reply_count': 1,\n   'like_count': 0,\n   'quote_count': 0},\n  'source': 'Twitter Web App',\n  'context_annotations': [{'domain': {'id': '123',\n     'name': 'Ongoing News Story',\n     'description': \"Ongoing News Stories like 'Brexit'\"},\n    'entity': {'id': '1220701888179359745', 'name': 'COVID-19'}}],\n  'conversation_id': '1250217682533642240',\n  'id': '1250219777185873922',\n  'text': '8. How effective are thermal scanners in detecting people infected with the new coronavirus? https://t.co/nyLOyKAb1H',\n  'reply_settings': 'everyone',\n  'possibly_sensitive': False,\n  'entities': {'urls': [{'start': 93,\n     'end': 116,\n     'url': 'https://t.co/nyLOyKAb1H',\n     'expanded_url': 'https://twitter.com/ucoptempe/status/1250219777185873922/photo/1',\n     'display_url': 'pic.twitter.com/nyLOyKAb1H'}]},\n  'referenced_tweets': [{'type': 'replied_to', 'id': '1250219620939657216'}],\n  'in_reply_to_user_id': '312362691',\n  'created_at': '2020-04-15T00:29:57.000Z',\n  'lang': 'en',\n  'attachments': {'media_keys': ['3_1250219766691708928']},\n  'author_id': '312362691'},\n {'public_metrics': {'retweet_count': 0,\n   'reply_count': 1,\n   'like_count': 0,\n   'quote_count': 0},\n  'source': 'Twitter Web App',\n  'context_annotations': [{'domain': {'id': '123',\n     'name': 'Ongoing News Story',\n     'description': \"Ongoing News Stories like 'Brexit'\"},\n    'entity': {'id': '1220701888179359745', 'name': 'COVID-19'}}],\n  'conversation_id': '1250217682533642240',\n  'id': '1250219894429208577',\n  'text': '9. Can an ultraviolet disinfection lamp kill the new coronavirus? https://t.co/ZrlllbkIjm',\n  'reply_settings': 'everyone',\n  'possibly_sensitive': False,\n  'entities': {'urls': [{'start': 66,\n     'end': 89,\n     'url': 'https://t.co/ZrlllbkIjm',\n     'expanded_url': 'https://twitter.com/ucoptempe/status/1250219894429208577/photo/1',\n     'display_url': 'pic.twitter.com/ZrlllbkIjm'}]},\n  'referenced_tweets': [{'type': 'replied_to', 'id': '1250219777185873922'}],\n  'in_reply_to_user_id': '312362691',\n  'created_at': '2020-04-15T00:30:25.000Z',\n  'lang': 'en',\n  'attachments': {'media_keys': ['3_1250219886543953922']},\n  'author_id': '312362691'},\n {'public_metrics': {'retweet_count': 0,\n   'reply_count': 1,\n   'like_count': 0,\n   'quote_count': 0},\n  'source': 'Twitter Web App',\n  'context_annotations': [{'domain': {'id': '123',\n     'name': 'Ongoing News Story',\n     'description': \"Ongoing News Stories like 'Brexit'\"},\n    'entity': {'id': '1220701888179359745', 'name': 'COVID-19'}}],\n  'conversation_id': '1250217682533642240',\n  'id': '1250219998842216448',\n  'text': '10. Are hand dryers effective in killing the new coronavirus? https://t.co/cSDKXO1bGr',\n  'reply_settings': 'everyone',\n  'possibly_sensitive': False,\n  'entities': {'urls': [{'start': 62,\n     'end': 85,\n     'url': 'https://t.co/cSDKXO1bGr',\n     'expanded_url': 'https://twitter.com/ucoptempe/status/1250219998842216448/photo/1',\n     'display_url': 'pic.twitter.com/cSDKXO1bGr'}]},\n  'referenced_tweets': [{'type': 'replied_to', 'id': '1250219894429208577'}],\n  'in_reply_to_user_id': '312362691',\n  'created_at': '2020-04-15T00:30:50.000Z',\n  'lang': 'en',\n  'attachments': {'media_keys': ['3_1250219939102769157']},\n  'author_id': '312362691'},\n {'public_metrics': {'retweet_count': 0,\n   'reply_count': 1,\n   'like_count': 0,\n   'quote_count': 0},\n  'source': 'Twitter Web App',\n  'context_annotations': [{'domain': {'id': '123',\n     'name': 'Ongoing News Story',\n     'description': \"Ongoing News Stories like 'Brexit'\"},\n    'entity': {'id': '1220701888179359745', 'name': 'COVID-19'}}],\n  'conversation_id': '1250217682533642240',\n  'id': '1250220115762667520',\n  'text': '11. The new coronavirus CANNOT be transmitted through mosquito bites. https://t.co/ZRL8bjRkpl',\n  'reply_settings': 'everyone',\n  'possibly_sensitive': False,\n  'entities': {'urls': [{'start': 70,\n     'end': 93,\n     'url': 'https://t.co/ZRL8bjRkpl',\n     'expanded_url': 'https://twitter.com/ucoptempe/status/1250220115762667520/photo/1',\n     'display_url': 'pic.twitter.com/ZRL8bjRkpl'}]},\n  'referenced_tweets': [{'type': 'replied_to', 'id': '1250219998842216448'}],\n  'in_reply_to_user_id': '312362691',\n  'created_at': '2020-04-15T00:31:18.000Z',\n  'lang': 'en',\n  'attachments': {'media_keys': ['3_1250220108611379200']},\n  'author_id': '312362691'},\n {'public_metrics': {'retweet_count': 0,\n   'reply_count': 1,\n   'like_count': 0,\n   'quote_count': 0},\n  'source': 'Twitter Web App',\n  'context_annotations': [{'domain': {'id': '123',\n     'name': 'Ongoing News Story',\n     'description': \"Ongoing News Stories like 'Brexit'\"},\n    'entity': {'id': '1220701888179359745', 'name': 'COVID-19'}}],\n  'conversation_id': '1250217682533642240',\n  'id': '1250220272306638848',\n  'text': '12. Taking a hot bath does not prevent the new coronavirus disease https://t.co/bICOqSTOuD',\n  'reply_settings': 'everyone',\n  'possibly_sensitive': False,\n  'entities': {'urls': [{'start': 67,\n     'end': 90,\n     'url': 'https://t.co/bICOqSTOuD',\n     'expanded_url': 'https://twitter.com/ucoptempe/status/1250220272306638848/photo/1',\n     'display_url': 'pic.twitter.com/bICOqSTOuD'}]},\n  'referenced_tweets': [{'type': 'replied_to', 'id': '1250220115762667520'}],\n  'in_reply_to_user_id': '312362691',\n  'created_at': '2020-04-15T00:31:55.000Z',\n  'lang': 'en',\n  'attachments': {'media_keys': ['3_1250220258423484416']},\n  'author_id': '312362691'},\n {'public_metrics': {'retweet_count': 0,\n   'reply_count': 1,\n   'like_count': 0,\n   'quote_count': 0},\n  'source': 'Twitter Web App',\n  'context_annotations': [{'domain': {'id': '30',\n     'name': 'Entities [Entity Service]',\n     'description': 'Entity Service top level domain, every item that is in Entity Service should be in this domain'},\n    'entity': {'id': '854692455005921281',\n     'name': 'Science',\n     'description': 'Science'}},\n   {'domain': {'id': '66',\n     'name': 'Interests and Hobbies Category',\n     'description': 'A grouping of interests and hobbies entities, like Novelty Food or Destinations'},\n    'entity': {'id': '857083369514876928',\n     'name': 'Weather',\n     'description': 'Weather'}},\n   {'domain': {'id': '123',\n     'name': 'Ongoing News Story',\n     'description': \"Ongoing News Stories like 'Brexit'\"},\n    'entity': {'id': '1220701888179359745', 'name': 'COVID-19'}}],\n  'conversation_id': '1250217682533642240',\n  'id': '1250220389323526146',\n  'text': '13. Cold weather and snow CANNOT kill the new coronavirus. https://t.co/7yeQQ6gLNo',\n  'reply_settings': 'everyone',\n  'possibly_sensitive': False,\n  'entities': {'urls': [{'start': 59,\n     'end': 82,\n     'url': 'https://t.co/7yeQQ6gLNo',\n     'expanded_url': 'https://twitter.com/ucoptempe/status/1250220389323526146/photo/1',\n     'display_url': 'pic.twitter.com/7yeQQ6gLNo'}]},\n  'referenced_tweets': [{'type': 'replied_to', 'id': '1250220272306638848'}],\n  'in_reply_to_user_id': '312362691',\n  'created_at': '2020-04-15T00:32:23.000Z',\n  'lang': 'en',\n  'attachments': {'media_keys': ['3_1250220381903843328']},\n  'author_id': '312362691'},\n {'public_metrics': {'retweet_count': 0,\n   'reply_count': 1,\n   'like_count': 0,\n   'quote_count': 0},\n  'source': 'Twitter Web App',\n  'context_annotations': [{'domain': {'id': '123',\n     'name': 'Ongoing News Story',\n     'description': \"Ongoing News Stories like 'Brexit'\"},\n    'entity': {'id': '1220701888179359745', 'name': 'COVID-19'}},\n   {'domain': {'id': '29',\n     'name': 'Events [Entity Service]',\n     'description': 'Entity Service related Events domain'},\n    'entity': {'id': '1219057585707315201',\n     'name': 'COVID-19: Latest news updates from around the world',\n     'description': 'This page is a timeline of Tweets with the latest information and updates on COVID-19 from experts, journalists, health authorities and other trusted sources from around the world. For more on COVID-19, visit: twitter.com/explore/tabs/covid-19'}}],\n  'conversation_id': '1250217682533642240',\n  'id': '1250220527005753344',\n  'text': '14. COVID-19 virus can be transmitted in areas with hot and humid climates https://t.co/ylKa2F40vu',\n  'reply_settings': 'everyone',\n  'possibly_sensitive': False,\n  'entities': {'urls': [{'start': 75,\n     'end': 98,\n     'url': 'https://t.co/ylKa2F40vu',\n     'expanded_url': 'https://twitter.com/ucoptempe/status/1250220527005753344/photo/1',\n     'display_url': 'pic.twitter.com/ylKa2F40vu'}]},\n  'referenced_tweets': [{'type': 'replied_to', 'id': '1250220389323526146'}],\n  'in_reply_to_user_id': '312362691',\n  'created_at': '2020-04-15T00:32:56.000Z',\n  'lang': 'en',\n  'attachments': {'media_keys': ['3_1250220519367966721']},\n  'author_id': '312362691'},\n {'public_metrics': {'retweet_count': 0,\n   'reply_count': 1,\n   'like_count': 0,\n   'quote_count': 0},\n  'source': 'Twitter Web App',\n  'context_annotations': [{'domain': {'id': '65',\n     'name': 'Interests and Hobbies Vertical',\n     'description': 'Top level interests and hobbies groupings, like Food or Travel'},\n    'entity': {'id': '834828264786898945',\n     'name': 'Drinks',\n     'description': 'Drinks'}},\n   {'domain': {'id': '67',\n     'name': 'Interests and Hobbies',\n     'description': 'Interests, opinions, and behaviors of individuals, groups, or cultures; like Speciality Cooking or Theme Parks'},\n    'entity': {'id': '1006278636842782720',\n     'name': 'Drink Experience',\n     'description': 'Drink Experience'}},\n   {'domain': {'id': '123',\n     'name': 'Ongoing News Story',\n     'description': \"Ongoing News Stories like 'Brexit'\"},\n    'entity': {'id': '1220701888179359745', 'name': 'COVID-19'}}],\n  'conversation_id': '1250217682533642240',\n  'id': '1250220791544705025',\n  'text': '15. Drinking alcohol does not protect you against COVID-19 and can be dangerous https://t.co/ZrLN61q046',\n  'reply_settings': 'everyone',\n  'possibly_sensitive': False,\n  'entities': {'urls': [{'start': 80,\n     'end': 103,\n     'url': 'https://t.co/ZrLN61q046',\n     'expanded_url': 'https://twitter.com/ucoptempe/status/1250220791544705025/photo/1',\n     'display_url': 'pic.twitter.com/ZrLN61q046'}]},\n  'referenced_tweets': [{'type': 'replied_to', 'id': '1250220527005753344'}],\n  'in_reply_to_user_id': '312362691',\n  'created_at': '2020-04-15T00:33:59.000Z',\n  'lang': 'en',\n  'attachments': {'media_keys': ['3_1250220784812830720']},\n  'author_id': '312362691'},\n {'public_metrics': {'retweet_count': 0,\n   'reply_count': 1,\n   'like_count': 0,\n   'quote_count': 0},\n  'source': 'Twitter Web App',\n  'context_annotations': [{'domain': {'id': '123',\n     'name': 'Ongoing News Story',\n     'description': \"Ongoing News Stories like 'Brexit'\"},\n    'entity': {'id': '1220701888179359745', 'name': 'COVID-19'}},\n   {'domain': {'id': '29',\n     'name': 'Events [Entity Service]',\n     'description': 'Entity Service related Events domain'},\n    'entity': {'id': '1219057585707315201',\n     'name': 'COVID-19: Latest news updates from around the world',\n     'description': 'This page is a timeline of Tweets with the latest information and updates on COVID-19 from experts, journalists, health authorities and other trusted sources from around the world. For more on COVID-19, visit: twitter.com/explore/tabs/covid-19'}}],\n  'conversation_id': '1250217682533642240',\n  'id': '1250220987238383616',\n  'text': '16. Being able to hold your breath for 10 seconds or more without coughing or feeling discomfort DOES NOT mean you are free from the coronavirus disease (COVID-19) or any other lung disease. https://t.co/gPUL51Y2lx',\n  'reply_settings': 'everyone',\n  'possibly_sensitive': False,\n  'entities': {'urls': [{'start': 191,\n     'end': 214,\n     'url': 'https://t.co/gPUL51Y2lx',\n     'expanded_url': 'https://twitter.com/ucoptempe/status/1250220987238383616/photo/1',\n     'display_url': 'pic.twitter.com/gPUL51Y2lx'}]},\n  'referenced_tweets': [{'type': 'replied_to', 'id': '1250220791544705025'}],\n  'in_reply_to_user_id': '312362691',\n  'created_at': '2020-04-15T00:34:45.000Z',\n  'lang': 'en',\n  'attachments': {'media_keys': ['3_1250220971400654849']},\n  'author_id': '312362691'},\n {'public_metrics': {'retweet_count': 0,\n   'reply_count': 1,\n   'like_count': 0,\n   'quote_count': 0},\n  'source': 'Twitter Web App',\n  'context_annotations': [{'domain': {'id': '123',\n     'name': 'Ongoing News Story',\n     'description': \"Ongoing News Stories like 'Brexit'\"},\n    'entity': {'id': '1220701888179359745', 'name': 'COVID-19'}},\n   {'domain': {'id': '29',\n     'name': 'Events [Entity Service]',\n     'description': 'Entity Service related Events domain'},\n    'entity': {'id': '1219057585707315201',\n     'name': 'COVID-19: Latest news updates from around the world',\n     'description': 'This page is a timeline of Tweets with the latest information and updates on COVID-19 from experts, journalists, health authorities and other trusted sources from around the world. For more on COVID-19, visit: twitter.com/explore/tabs/covid-19'}}],\n  'conversation_id': '1250217682533642240',\n  'id': '1250221140603047937',\n  'text': '17. You can recover from the coronavirus disease (COVID-19). Catching the new coronavirus DOES NOT mean you will have it for life. https://t.co/yrjUM5qniK',\n  'reply_settings': 'everyone',\n  'possibly_sensitive': False,\n  'entities': {'urls': [{'start': 131,\n     'end': 154,\n     'url': 'https://t.co/yrjUM5qniK',\n     'expanded_url': 'https://twitter.com/ucoptempe/status/1250221140603047937/photo/1',\n     'display_url': 'pic.twitter.com/yrjUM5qniK'}]},\n  'referenced_tweets': [{'type': 'replied_to', 'id': '1250220987238383616'}],\n  'in_reply_to_user_id': '312362691',\n  'created_at': '2020-04-15T00:35:22.000Z',\n  'lang': 'en',\n  'attachments': {'media_keys': ['3_1250221134303260672']},\n  'author_id': '312362691'},\n {'public_metrics': {'retweet_count': 0,\n   'reply_count': 1,\n   'like_count': 0,\n   'quote_count': 0},\n  'source': 'Twitter Web App',\n  'context_annotations': [{'domain': {'id': '123',\n     'name': 'Ongoing News Story',\n     'description': \"Ongoing News Stories like 'Brexit'\"},\n    'entity': {'id': '1220701888179359745', 'name': 'COVID-19'}},\n   {'domain': {'id': '29',\n     'name': 'Events [Entity Service]',\n     'description': 'Entity Service related Events domain'},\n    'entity': {'id': '1219057585707315201',\n     'name': 'COVID-19: Latest news updates from around the world',\n     'description': 'This page is a timeline of Tweets with the latest information and updates on COVID-19 from experts, journalists, health authorities and other trusted sources from around the world. For more on COVID-19, visit: twitter.com/explore/tabs/covid-19'}}],\n  'conversation_id': '1250217682533642240',\n  'id': '1250221275827470336',\n  'text': '18. Exposing yourself to the sun or to temperatures higher than 25C degrees DOES NOT prevent the coronavirus disease (COVID-19) https://t.co/aOQKrrwaBv',\n  'reply_settings': 'everyone',\n  'possibly_sensitive': False,\n  'entities': {'urls': [{'start': 128,\n     'end': 151,\n     'url': 'https://t.co/aOQKrrwaBv',\n     'expanded_url': 'https://twitter.com/ucoptempe/status/1250221275827470336/photo/1',\n     'display_url': 'pic.twitter.com/aOQKrrwaBv'}]},\n  'referenced_tweets': [{'type': 'replied_to', 'id': '1250221140603047937'}],\n  'in_reply_to_user_id': '312362691',\n  'created_at': '2020-04-15T00:35:54.000Z',\n  'lang': 'en',\n  'attachments': {'media_keys': ['3_1250221260648243200']},\n  'author_id': '312362691'},\n {'public_metrics': {'retweet_count': 0,\n   'reply_count': 0,\n   'like_count': 0,\n   'quote_count': 0},\n  'source': 'Twitter Web App',\n  'context_annotations': [{'domain': {'id': '30',\n     'name': 'Entities [Entity Service]',\n     'description': 'Entity Service top level domain, every item that is in Entity Service should be in this domain'},\n    'entity': {'id': '1085628093627195392',\n     'name': '5G',\n     'description': '5G'}},\n   {'domain': {'id': '123',\n     'name': 'Ongoing News Story',\n     'description': \"Ongoing News Stories like 'Brexit'\"},\n    'entity': {'id': '1220701888179359745', 'name': 'COVID-19'}},\n   {'domain': {'id': '29',\n     'name': 'Events [Entity Service]',\n     'description': 'Entity Service related Events domain'},\n    'entity': {'id': '1219057585707315201',\n     'name': 'COVID-19: Latest news updates from around the world',\n     'description': 'This page is a timeline of Tweets with the latest information and updates on COVID-19 from experts, journalists, health authorities and other trusted sources from around the world. For more on COVID-19, visit: twitter.com/explore/tabs/covid-19'}}],\n  'conversation_id': '1250217682533642240',\n  'id': '1250221402822545410',\n  'text': '19. 5G mobile networks DO NOT spread COVID-19 https://t.co/VjqelBmpTn',\n  'reply_settings': 'everyone',\n  'possibly_sensitive': False,\n  'entities': {'urls': [{'start': 46,\n     'end': 69,\n     'url': 'https://t.co/VjqelBmpTn',\n     'expanded_url': 'https://twitter.com/ucoptempe/status/1250221402822545410/photo/1',\n     'display_url': 'pic.twitter.com/VjqelBmpTn'}]},\n  'referenced_tweets': [{'type': 'replied_to', 'id': '1250221275827470336'}],\n  'in_reply_to_user_id': '312362691',\n  'created_at': '2020-04-15T00:36:25.000Z',\n  'lang': 'en',\n  'attachments': {'media_keys': ['3_1250221329959116800']},\n  'author_id': '312362691'}]"
     },
     "execution_count": 2,
     "metadata": {},
     "output_type": "execute_result"
    }
   ],
   "source": [
    "train_set[0]"
   ],
   "metadata": {
    "collapsed": false,
    "pycharm": {
     "name": "#%%\n"
    }
   }
  },
  {
   "cell_type": "code",
   "execution_count": 28,
   "outputs": [],
   "source": [
    "all_train_tweets = []\n",
    "all_dev_tweets = []\n",
    "\n",
    "train_id2index = {}\n",
    "num_train_tweets = 0\n",
    "for record in train_set:\n",
    "    for tweet in record:\n",
    "        all_train_tweets.append(tweet[\"text\"])\n",
    "        id = tweet[\"id\"]\n",
    "        train_id2index[id] = num_train_tweets\n",
    "        num_train_tweets += 1\n",
    "\n",
    "dev_id2index = {}\n",
    "num_dev_tweets = 0\n",
    "for record in dev_set:\n",
    "    for tweet in record:\n",
    "        all_dev_tweets.append(tweet[\"text\"])\n",
    "        id = tweet[\"id\"]\n",
    "        dev_id2index[id] = num_dev_tweets\n",
    "        num_dev_tweets += 1"
   ],
   "metadata": {
    "collapsed": false,
    "pycharm": {
     "name": "#%%\n"
    }
   }
  },
  {
   "cell_type": "code",
   "execution_count": 29,
   "outputs": [],
   "source": [
    "from sklearn.feature_extraction.text import TfidfVectorizer\n",
    "from nltk.tokenize import TweetTokenizer\n",
    "import numpy as np"
   ],
   "metadata": {
    "collapsed": false,
    "pycharm": {
     "name": "#%%\n"
    }
   }
  },
  {
   "cell_type": "code",
   "execution_count": 30,
   "outputs": [],
   "source": [
    "tfidf_vectorizer = TfidfVectorizer(tokenizer=TweetTokenizer().tokenize, max_df=0.8, min_df=3, max_features=6000)\n",
    "tfidf_train_matrix = tfidf_vectorizer.fit_transform(all_train_tweets)\n",
    "tfidf_dev_matrix = tfidf_vectorizer.transform(all_dev_tweets)"
   ],
   "metadata": {
    "collapsed": false,
    "pycharm": {
     "name": "#%%\n"
    }
   }
  },
  {
   "cell_type": "code",
   "execution_count": 31,
   "outputs": [],
   "source": [
    "def extract_feature(record, split):\n",
    "    feature_vec = []\n",
    "    feature_dict = {}\n",
    "    source_tweet_id = record[0][\"id\"]\n",
    "    if split == \"train\":\n",
    "        row_index = train_id2index[source_tweet_id]\n",
    "        tfidf_vec = tfidf_train_matrix[row_index].toarray()\n",
    "        tfidf_vec = np.squeeze(tfidf_vec)\n",
    "    else:\n",
    "        source_tweet_index = dev_id2index[source_tweet_id]\n",
    "        tfidf_vec = tfidf_dev_matrix[source_tweet_index].toarray()\n",
    "        tfidf_vec = np.squeeze(tfidf_vec)\n",
    "\n",
    "    reply_tweet_vecs = []\n",
    "    for tweet in record[1:]:\n",
    "        tweet_id = tweet[\"id\"]\n",
    "        if split == \"train\":\n",
    "            row_index = train_id2index[tweet_id]\n",
    "            tfidf_vec = tfidf_train_matrix[row_index].toarray()\n",
    "        else:\n",
    "            tweet_index = dev_id2index[tweet_id]\n",
    "            tfidf_vec = tfidf_dev_matrix[tweet_index].toarray()\n",
    "        reply_tweet_vecs.append(tfidf_vec)\n",
    "    if len(reply_tweet_vecs) < 1:\n",
    "        reply_tweet_mean_vec = np.zeros(6000)\n",
    "    else:\n",
    "        reply_tweet_mean_vec = np.squeeze(np.stack(reply_tweet_vecs).mean(axis=0))\n",
    "\n",
    "    return reply_tweet_mean_vec\n"
   ],
   "metadata": {
    "collapsed": false,
    "pycharm": {
     "name": "#%%\n"
    }
   }
  },
  {
   "cell_type": "code",
   "execution_count": 38,
   "outputs": [],
   "source": [
    "train_vec = []\n",
    "train_y = []\n",
    "for record, label in zip(train_set, train_label):\n",
    "    if record != []:\n",
    "        train_vec.append(extract_feature(record, \"train\"))\n",
    "        train_y.append(label)\n",
    "train_matrix = np.stack(train_vec)\n",
    "\n",
    "dev_vec = []\n",
    "dev_y = []\n",
    "for record, label in zip(dev_set, dev_label):\n",
    "    if record != []:\n",
    "        dev_vec.append(extract_feature(record, \"dev\"))\n",
    "        dev_y.append(label)\n",
    "dev_matrix = np.stack(dev_vec)"
   ],
   "metadata": {
    "collapsed": false,
    "pycharm": {
     "name": "#%%\n"
    }
   }
  },
  {
   "cell_type": "code",
   "execution_count": 41,
   "outputs": [
    {
     "name": "stdout",
     "output_type": "stream",
     "text": [
      "              precision    recall  f1-score   support\n",
      "\n",
      "           0       0.96      1.00      0.98        72\n",
      "           1       0.00      0.00      0.00         3\n",
      "\n",
      "    accuracy                           0.96        75\n",
      "   macro avg       0.48      0.50      0.49        75\n",
      "weighted avg       0.92      0.96      0.94        75\n",
      "\n"
     ]
    },
    {
     "name": "stderr",
     "output_type": "stream",
     "text": [
      "/Users/xinhaoyan/Python3.7/lib/python3.7/site-packages/sklearn/metrics/_classification.py:1318: UndefinedMetricWarning: Precision and F-score are ill-defined and being set to 0.0 in labels with no predicted samples. Use `zero_division` parameter to control this behavior.\n",
      "  _warn_prf(average, modifier, msg_start, len(result))\n",
      "/Users/xinhaoyan/Python3.7/lib/python3.7/site-packages/sklearn/metrics/_classification.py:1318: UndefinedMetricWarning: Precision and F-score are ill-defined and being set to 0.0 in labels with no predicted samples. Use `zero_division` parameter to control this behavior.\n",
      "  _warn_prf(average, modifier, msg_start, len(result))\n",
      "/Users/xinhaoyan/Python3.7/lib/python3.7/site-packages/sklearn/metrics/_classification.py:1318: UndefinedMetricWarning: Precision and F-score are ill-defined and being set to 0.0 in labels with no predicted samples. Use `zero_division` parameter to control this behavior.\n",
      "  _warn_prf(average, modifier, msg_start, len(result))\n"
     ]
    }
   ],
   "source": [
    "from sklearn.naive_bayes import BernoulliNB, ComplementNB\n",
    "from sklearn.metrics import classification_report\n",
    "\n",
    "cls = ComplementNB()\n",
    "cls.fit(train_matrix, np.array(train_y))\n",
    "pred = cls.predict(dev_matrix)\n",
    "print(classification_report(dev_y, pred))"
   ],
   "metadata": {
    "collapsed": false,
    "pycharm": {
     "name": "#%%\n"
    }
   }
  },
  {
   "cell_type": "code",
   "execution_count": null,
   "outputs": [],
   "source": [],
   "metadata": {
    "collapsed": false,
    "pycharm": {
     "name": "#%%\n"
    }
   }
  }
 ],
 "metadata": {
  "kernelspec": {
   "display_name": "Python 3",
   "language": "python",
   "name": "python3"
  },
  "language_info": {
   "codemirror_mode": {
    "name": "ipython",
    "version": 2
   },
   "file_extension": ".py",
   "mimetype": "text/x-python",
   "name": "python",
   "nbconvert_exporter": "python",
   "pygments_lexer": "ipython2",
   "version": "2.7.6"
  }
 },
 "nbformat": 4,
 "nbformat_minor": 0
}