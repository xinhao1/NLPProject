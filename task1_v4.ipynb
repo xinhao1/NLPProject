{
 "cells": [
  {
   "cell_type": "code",
   "execution_count": 1,
   "outputs": [],
   "source": [
    "import os\n",
    "import json\n",
    "train_ids = open(\"data/train.data.txt\", \"r\")\n",
    "train_labels = open(\"data/train.label.txt\", \"r\")\n",
    "dev_ids = open(\"data/dev.data.txt\", \"r\")\n",
    "dev_labels = open(\"data/dev.label.txt\", \"r\")\n",
    "\n",
    "\n",
    "\n",
    "def read_ids_labels(train_ids, train_labels, path = \"data/train_tweet/\"):\n",
    "    train_data = []\n",
    "    train_y = []\n",
    "    for train_ids_str, label in zip(train_ids.readlines(), train_labels.readlines()):\n",
    "        train_ids_list = train_ids_str.strip().split(\",\")\n",
    "        temp_json_list = []\n",
    "        if os.path.exists(path + train_ids_list[0] + \".json\"):\n",
    "            for train_id in train_ids_list:\n",
    "                train_path = path + train_id + \".json\"\n",
    "                if os.path.exists(train_path):\n",
    "                    tweet_json = json.load(open(train_path, \"r\"))\n",
    "                    if tweet_json not in temp_json_list:\n",
    "                        temp_json_list.append(tweet_json)\n",
    "                    # while tweet json has reference tweets, keep adding them to the list\n",
    "                    while \"referenced_tweets\" in tweet_json:\n",
    "                        referenced_tweets_id = tweet_json[\"referenced_tweets\"][0][\"id\"]\n",
    "                        if os.path.exists(path + referenced_tweets_id + \".json\"):\n",
    "                            tweet_json = json.load(open(path + referenced_tweets_id + \".json\", \"r\"))\n",
    "                            if tweet_json not in temp_json_list:\n",
    "                                temp_json_list.append(tweet_json)\n",
    "                        else:\n",
    "                            break\n",
    "\n",
    "            # sort the list by time\n",
    "            temp_json_list = sorted(temp_json_list, key=lambda x: x[\"created_at\"])\n",
    "            train_data.append(temp_json_list)\n",
    "            train_y.append(label)\n",
    "    return train_data, train_y\n",
    "\n",
    "train_set, train_label = read_ids_labels(train_ids, train_labels)\n",
    "dev_set, dev_label = read_ids_labels(dev_ids, dev_labels, path=\"data/dev_tweet/\")"
   ],
   "metadata": {
    "collapsed": false,
    "pycharm": {
     "name": "#%%\n"
    }
   }
  },
  {
   "cell_type": "code",
   "execution_count": 7,
   "outputs": [],
   "source": [
    "test_ids = open(\"data/test.data.txt\", \"r\")\n",
    "test_set = []\n",
    "for test_ids_str in test_ids.readlines():\n",
    "    test_ids_list = test_ids_str.strip().split(\",\")\n",
    "    temp_json_list = []\n",
    "    for test_id in test_ids_list:\n",
    "        test_path = \"data/tweet-objects/\" + test_id + \".json\"\n",
    "        if os.path.exists(test_path):\n",
    "            tweet_json = json.load(open(test_path, \"r\"))\n",
    "            if tweet_json not in temp_json_list:\n",
    "                temp_json_list.append(tweet_json)\n",
    "            # while tweet json has in_reply_to_status_id, keep adding them to the list\n",
    "            while tweet_json[\"in_reply_to_status_id\"] != None:\n",
    "                in_reply_to_status_id = str(tweet_json[\"in_reply_to_status_id\"])\n",
    "                if os.path.exists(\"data/tweet-objects/\" + in_reply_to_status_id + \".json\"):\n",
    "                    tweet_json = json.load(open(\"data/tweet-objects/\" + in_reply_to_status_id + \".json\", \"r\"))\n",
    "                    if tweet_json not in temp_json_list:\n",
    "                        temp_json_list.append(tweet_json)\n",
    "                else:\n",
    "                    break\n",
    "    temp_json_list = sorted(temp_json_list, key=lambda x: x[\"created_at\"])\n",
    "    test_set.append(temp_json_list)"
   ],
   "metadata": {
    "collapsed": false,
    "pycharm": {
     "name": "#%%\n"
    }
   }
  },
  {
   "cell_type": "code",
   "execution_count": 10,
   "outputs": [],
   "source": [
    "all_train_tweets = []\n",
    "all_dev_tweets = []\n",
    "all_test_tweets = []\n",
    "\n",
    "train_id2index = {}\n",
    "num_train_tweets = 0\n",
    "for record in train_set:\n",
    "    for tweet in record:\n",
    "        all_train_tweets.append(tweet[\"text\"])\n",
    "        id = tweet[\"id\"]\n",
    "        train_id2index[id] = num_train_tweets\n",
    "        num_train_tweets += 1\n",
    "\n",
    "dev_id2index = {}\n",
    "num_dev_tweets = 0\n",
    "for record in dev_set:\n",
    "    for tweet in record:\n",
    "        all_dev_tweets.append(tweet[\"text\"])\n",
    "        id = tweet[\"id\"]\n",
    "        dev_id2index[id] = num_dev_tweets\n",
    "        num_dev_tweets += 1\n",
    "\n",
    "test_id2index = {}\n",
    "num_test_tweets = 0\n",
    "for record in test_set:\n",
    "    for tweet in record:\n",
    "        all_test_tweets.append(tweet[\"text\"])\n",
    "        id = tweet[\"id\"]\n",
    "        test_id2index[id] = num_test_tweets\n",
    "        num_test_tweets += 1"
   ],
   "metadata": {
    "collapsed": false,
    "pycharm": {
     "name": "#%%\n"
    }
   }
  },
  {
   "cell_type": "code",
   "execution_count": 11,
   "outputs": [],
   "source": [
    "from sklearn.feature_extraction.text import TfidfVectorizer\n",
    "from nltk.tokenize import TweetTokenizer\n",
    "import numpy as np"
   ],
   "metadata": {
    "collapsed": false,
    "pycharm": {
     "name": "#%%\n"
    }
   }
  },
  {
   "cell_type": "code",
   "execution_count": 12,
   "outputs": [],
   "source": [
    "tfidf_vectorizer = TfidfVectorizer(tokenizer=TweetTokenizer().tokenize, max_df=0.8, min_df=3, max_features=6000)\n",
    "tfidf_train_matrix = tfidf_vectorizer.fit_transform(all_train_tweets)\n",
    "tfidf_dev_matrix = tfidf_vectorizer.transform(all_dev_tweets)\n",
    "tfidf_test_matrix = tfidf_vectorizer.transform(all_test_tweets)"
   ],
   "metadata": {
    "collapsed": false,
    "pycharm": {
     "name": "#%%\n"
    }
   }
  },
  {
   "cell_type": "code",
   "execution_count": 13,
   "outputs": [],
   "source": [
    "def extract_feature(record, split):\n",
    "    source_tweet_id = record[0][\"id\"]\n",
    "    if split == \"train\":\n",
    "        row_index = train_id2index[source_tweet_id]\n",
    "        tfidf_vec = tfidf_train_matrix[row_index].toarray()\n",
    "        tfidf_vec = np.squeeze(tfidf_vec)\n",
    "    elif split == \"dev\":\n",
    "        row_index = dev_id2index[source_tweet_id]\n",
    "        tfidf_vec = tfidf_dev_matrix[row_index].toarray()\n",
    "        tfidf_vec = np.squeeze(tfidf_vec)\n",
    "    elif split == \"test\":\n",
    "        row_index = test_id2index[source_tweet_id]\n",
    "        tfidf_vec = tfidf_test_matrix[row_index].toarray()\n",
    "        tfidf_vec = np.squeeze(tfidf_vec)\n",
    "\n",
    "    reply_tweet_vecs = []\n",
    "    for tweet in record[1:]:\n",
    "        tweet_id = tweet[\"id\"]\n",
    "        if split == \"train\":\n",
    "            row_index = train_id2index[tweet_id]\n",
    "            tfidf_vec = tfidf_train_matrix[row_index].toarray()\n",
    "        elif split == \"dev\":\n",
    "            tweet_index = dev_id2index[tweet_id]\n",
    "            tfidf_vec = tfidf_dev_matrix[tweet_index].toarray()\n",
    "        elif split == \"test\":\n",
    "            tweet_index = test_id2index[tweet_id]\n",
    "            tfidf_vec = tfidf_test_matrix[tweet_index].toarray()\n",
    "        reply_tweet_vecs.append(tfidf_vec)\n",
    "    if len(reply_tweet_vecs) < 1:\n",
    "        reply_tweet_mean_vec = np.zeros(6000)\n",
    "    else:\n",
    "        reply_tweet_mean_vec = np.squeeze(np.stack(reply_tweet_vecs).mean(axis=0))\n",
    "\n",
    "    return reply_tweet_mean_vec\n"
   ],
   "metadata": {
    "collapsed": false,
    "pycharm": {
     "name": "#%%\n"
    }
   }
  },
  {
   "cell_type": "code",
   "execution_count": 14,
   "outputs": [],
   "source": [
    "train_vec = []\n",
    "train_y = []\n",
    "for record, label in zip(train_set, train_label):\n",
    "    if record != []:\n",
    "        train_vec.append(extract_feature(record, \"train\"))\n",
    "        train_y.append(label)\n",
    "train_matrix = np.stack(train_vec)\n",
    "\n",
    "dev_vec = []\n",
    "dev_y = []\n",
    "for record, label in zip(dev_set, dev_label):\n",
    "    if record != []:\n",
    "        dev_vec.append(extract_feature(record, \"dev\"))\n",
    "        dev_y.append(label)\n",
    "dev_matrix = np.stack(dev_vec)\n",
    "\n",
    "test_vec = []\n",
    "for record in test_set:\n",
    "    if record != []:\n",
    "        test_vec.append(extract_feature(record, \"test\"))\n",
    "test_matrix = np.stack(test_vec)"
   ],
   "metadata": {
    "collapsed": false,
    "pycharm": {
     "name": "#%%\n"
    }
   }
  },
  {
   "cell_type": "code",
   "execution_count": 15,
   "outputs": [
    {
     "name": "stdout",
     "output_type": "stream",
     "text": [
      "              precision    recall  f1-score   support\n",
      "\n",
      "  nonrumour\n",
      "       0.80      0.99      0.89       422\n",
      "     rumour\n",
      "       0.81      0.11      0.20       115\n",
      "\n",
      "    accuracy                           0.80       537\n",
      "   macro avg       0.81      0.55      0.54       537\n",
      "weighted avg       0.81      0.80      0.74       537\n",
      "\n"
     ]
    }
   ],
   "source": [
    "from sklearn.naive_bayes import ComplementNB\n",
    "from sklearn.metrics import classification_report\n",
    "\n",
    "cls = ComplementNB()\n",
    "cls.fit(train_matrix, np.array(train_y))\n",
    "pred = cls.predict(dev_matrix)\n",
    "print(classification_report(dev_y, pred))"
   ],
   "metadata": {
    "collapsed": false,
    "pycharm": {
     "name": "#%%\n"
    }
   }
  },
  {
   "cell_type": "markdown",
   "source": [
    "## Predict on test set and write to file"
   ],
   "metadata": {
    "collapsed": false,
    "pycharm": {
     "name": "#%% md\n"
    }
   }
  },
  {
   "cell_type": "code",
   "execution_count": null,
   "outputs": [],
   "source": [
    "pred = cls.predict(test_matrix)\n",
    "\n",
    "# output csv file with index\n",
    "with open(\"submission.csv\", \"w\") as f:\n",
    "    f.write(\"Id,Predicted\\n\")\n",
    "    for i, label in enumerate(pred):\n",
    "        f.write(\"{},{}\\n\".format(i, label))"
   ],
   "metadata": {
    "collapsed": false,
    "pycharm": {
     "name": "#%%\n"
    }
   }
  }
 ],
 "metadata": {
  "kernelspec": {
   "display_name": "Python 3",
   "language": "python",
   "name": "python3"
  },
  "language_info": {
   "codemirror_mode": {
    "name": "ipython",
    "version": 2
   },
   "file_extension": ".py",
   "mimetype": "text/x-python",
   "name": "python",
   "nbconvert_exporter": "python",
   "pygments_lexer": "ipython2",
   "version": "2.7.6"
  }
 },
 "nbformat": 4,
 "nbformat_minor": 0
}